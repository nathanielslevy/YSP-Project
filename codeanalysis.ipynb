{
 "cells": [
  {
   "cell_type": "markdown",
   "id": "4c19dea3-af12-4b44-ad8b-de9e1cf3fcf3",
   "metadata": {},
   "source": [
    "Importing various packages so that we can access the csv file (panda) and then making sure that we are able to plot the data from the csv file (matlab)."
   ]
  },
  {
   "cell_type": "code",
   "execution_count": 2,
   "id": "f89afd7c-fc4f-4c1e-a3b8-c0d8a7868534",
   "metadata": {},
   "outputs": [
    {
     "ename": "ModuleNotFoundError",
     "evalue": "No module named 'pandas'",
     "output_type": "error",
     "traceback": [
      "\u001b[1;31m---------------------------------------------------------------------------\u001b[0m",
      "\u001b[1;31mModuleNotFoundError\u001b[0m                       Traceback (most recent call last)",
      "Cell \u001b[1;32mIn[2], line 2\u001b[0m\n\u001b[0;32m      1\u001b[0m \u001b[38;5;28;01mimport\u001b[39;00m \u001b[38;5;21;01mmatplotlib\u001b[39;00m\u001b[38;5;21;01m.\u001b[39;00m\u001b[38;5;21;01mpyplot\u001b[39;00m \u001b[38;5;28;01mas\u001b[39;00m \u001b[38;5;21;01mplt\u001b[39;00m\n\u001b[1;32m----> 2\u001b[0m \u001b[38;5;28;01mimport\u001b[39;00m \u001b[38;5;21;01mpandas\u001b[39;00m \u001b[38;5;28;01mas\u001b[39;00m \u001b[38;5;21;01mpd\u001b[39;00m\n",
      "\u001b[1;31mModuleNotFoundError\u001b[0m: No module named 'pandas'"
     ]
    }
   ],
   "source": [
    "import matplotlib.pyplot as plt\n",
    "import pandas as pd"
   ]
  },
  {
   "cell_type": "markdown",
   "id": "86d75f49-2cff-4900-8594-f4ccaaedf318",
   "metadata": {},
   "source": [
    "Utilizing pandas in order to read in the csv file into a variable."
   ]
  },
  {
   "cell_type": "code",
   "execution_count": null,
   "id": "6557954d-79d4-4f4f-9617-b26359a7ed00",
   "metadata": {},
   "outputs": [],
   "source": [
    "# Reads in CSV\n",
    "custom_df = pd.read_csv(\"/Users/natelevy/PycharmProjects/PythonB Final Project/custom_df.csv\")"
   ]
  },
  {
   "cell_type": "markdown",
   "id": "7947dd6b-e9e9-4af1-a6f9-957ec0b36b9a",
   "metadata": {},
   "source": [
    "Making variables and assigning data to the various races."
   ]
  },
  {
   "cell_type": "code",
   "execution_count": null,
   "id": "e6b46083-2ec5-4efe-b5e6-e9e2871cde0a",
   "metadata": {},
   "outputs": [],
   "source": [
    "white_df = custom_df[custom_df['Race'] == \"White\"]\n",
    "black_df = custom_df[custom_df['Race'] == \"Black\"]\n",
    "white_df.to_csv('white_df.csv', index=False)\n",
    "black_df.to_csv('white_df.csv', index=False)"
   ]
  },
  {
   "cell_type": "markdown",
   "id": "6eb43839-ae38-4d6e-bdbb-cccc9cfbfa8c",
   "metadata": {},
   "source": [
    "Changing the values of \"2\" to \"0\" in order to get accurate data visualization."
   ]
  },
  {
   "cell_type": "markdown",
   "id": "5b1df6ba-5671-487f-b150-ce458fa10973",
   "metadata": {},
   "source": [
    "condition_w = white_df['Health Insurance Status'] == 2\n",
    "condition_b = black_df['Health Insurance Status'] == 2\n",
    "white_df.loc[condition_w, 'Health Insurance Status'] = white_df.loc[condition_w, 'Health Insurance Status'] -2\n",
    "black_df.loc[condition_b, 'Health Insurance Status'] = black_df.loc[condition_b, 'Health Insurance Status'] -2"
   ]
  },
  {
   "cell_type": "raw",
   "id": "fa040f4e-e3fd-4f34-bc27-115160905877",
   "metadata": {},
   "source": [
    "Calculating the mean values from the various race groups and then adding the mean values to a list. These functions essentially regress race onto health insurance, and finds a probability of health coverage. Then all that data is plotted over the function of age. "
   ]
  },
  {
   "cell_type": "code",
   "execution_count": null,
   "id": "6cdb0879-97a0-4d24-9512-254bcf9e2746",
   "metadata": {},
   "outputs": [],
   "source": [
    "mean_values = white_df.groupby('Age')['Health Insurance Status'].mean()\n",
    "mean_values = black_df.groupby('Age')['Health Insurance Status'].mean()\n",
    "print(mean_values.tolist())"
   ]
  },
  {
   "cell_type": "markdown",
   "id": "1d8c90f8-3e81-4e17-b2d2-44c1e43aa9b4",
   "metadata": {},
   "source": [
    "Utilizing various matlab functions in order to plot the regressed linear function. "
   ]
  },
  {
   "cell_type": "code",
   "execution_count": 1,
   "id": "ccc561b5-37bc-424e-8cb9-79079cb50e3d",
   "metadata": {},
   "outputs": [
    {
     "ename": "NameError",
     "evalue": "name 'plt' is not defined",
     "output_type": "error",
     "traceback": [
      "\u001b[1;31m---------------------------------------------------------------------------\u001b[0m",
      "\u001b[1;31mNameError\u001b[0m                                 Traceback (most recent call last)",
      "Cell \u001b[1;32mIn[1], line 1\u001b[0m\n\u001b[1;32m----> 1\u001b[0m \u001b[43mplt\u001b[49m\u001b[38;5;241m.\u001b[39mplot(\u001b[38;5;28msorted\u001b[39m(white_df[\u001b[38;5;124m\"\u001b[39m\u001b[38;5;124mAge\u001b[39m\u001b[38;5;124m\"\u001b[39m]\u001b[38;5;241m.\u001b[39munique()), mean_values)\n\u001b[0;32m      2\u001b[0m plt\u001b[38;5;241m.\u001b[39mscatter(\u001b[38;5;28msorted\u001b[39m(black_df[\u001b[38;5;124m\"\u001b[39m\u001b[38;5;124mAge\u001b[39m\u001b[38;5;124m\"\u001b[39m]\u001b[38;5;241m.\u001b[39munique()), mean_values, c\u001b[38;5;241m=\u001b[39m\u001b[38;5;124m'\u001b[39m\u001b[38;5;124mred\u001b[39m\u001b[38;5;124m'\u001b[39m)\n\u001b[0;32m      4\u001b[0m plt\u001b[38;5;241m.\u001b[39mshow()\n",
      "\u001b[1;31mNameError\u001b[0m: name 'plt' is not defined"
     ]
    }
   ],
   "source": [
    "plt.plot(sorted(white_df[\"Age\"].unique()), mean_values)\n",
    "plt.scatter(sorted(black_df[\"Age\"].unique()), mean_values, c='red')\n",
    "\n",
    "plt.show()"
   ]
  }
 ],
 "metadata": {
  "kernelspec": {
   "display_name": "Python 3 (ipykernel)",
   "language": "python",
   "name": "python3"
  },
  "language_info": {
   "codemirror_mode": {
    "name": "ipython",
    "version": 3
   },
   "file_extension": ".py",
   "mimetype": "text/x-python",
   "name": "python",
   "nbconvert_exporter": "python",
   "pygments_lexer": "ipython3",
   "version": "3.10.10"
  }
 },
 "nbformat": 4,
 "nbformat_minor": 5
}
